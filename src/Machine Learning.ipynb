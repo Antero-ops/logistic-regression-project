{
 "cells": [
  {
   "cell_type": "markdown",
   "metadata": {},
   "source": [
    "# Machine Learning"
   ]
  },
  {
   "cell_type": "code",
   "execution_count": 2,
   "metadata": {},
   "outputs": [],
   "source": [
    "import pandas as pd\n",
    "\n",
    "# TRAIN CON OUTLIERS \n",
    "\n",
    "x_train_con_norm = pd.read_csv(\"../data/processed/x_train_con_norm.csv\")\n",
    "x_train_con_scal = pd.read_csv(\"../data/processed/x_train_con_scal.csv\")\n",
    "x_train_sin_norm = pd.read_csv(\"../data/processed/x_train_sin_norm.csv\")\n",
    "x_train_sin_scal = pd.read_csv(\"../data/processed/x_train_sin_scal.csv\")\n",
    "y_train = pd.read_csv('../data/processed/y_train.csv')\n",
    "\n",
    "# TEST SIN OUTLIERS \n",
    "\n",
    "x_test_con_norm = pd.read_csv(\"../data/processed/x_test_con_norm.csv\")\n",
    "x_test_con_scal = pd.read_csv(\"../data/processed/x_test_con_scal.csv\")\n",
    "x_test_sin_norm = pd.read_csv(\"../data/processed/x_test_sin_norm.csv\")\n",
    "x_test_sin_scal = pd.read_csv(\"../data/processed/x_test_sin_scal.csv\")\n",
    "y_test = pd.read_csv('../data/processed/y_test.csv')"
   ]
  },
  {
   "cell_type": "code",
   "execution_count": 9,
   "metadata": {},
   "outputs": [
    {
     "name": "stderr",
     "output_type": "stream",
     "text": [
      "/home/vscode/.local/lib/python3.10/site-packages/sklearn/utils/validation.py:1339: DataConversionWarning: A column-vector y was passed when a 1d array was expected. Please change the shape of y to (n_samples, ), for example using ravel().\n",
      "  y = column_or_1d(y, warn=True)\n",
      "/home/vscode/.local/lib/python3.10/site-packages/sklearn/utils/validation.py:1339: DataConversionWarning: A column-vector y was passed when a 1d array was expected. Please change the shape of y to (n_samples, ), for example using ravel().\n",
      "  y = column_or_1d(y, warn=True)\n",
      "/home/vscode/.local/lib/python3.10/site-packages/sklearn/linear_model/_logistic.py:469: ConvergenceWarning: lbfgs failed to converge (status=1):\n",
      "STOP: TOTAL NO. of ITERATIONS REACHED LIMIT.\n",
      "\n",
      "Increase the number of iterations (max_iter) or scale the data as shown in:\n",
      "    https://scikit-learn.org/stable/modules/preprocessing.html\n",
      "Please also refer to the documentation for alternative solver options:\n",
      "    https://scikit-learn.org/stable/modules/linear_model.html#logistic-regression\n",
      "  n_iter_i = _check_optimize_result(\n",
      "/home/vscode/.local/lib/python3.10/site-packages/sklearn/utils/validation.py:1339: DataConversionWarning: A column-vector y was passed when a 1d array was expected. Please change the shape of y to (n_samples, ), for example using ravel().\n",
      "  y = column_or_1d(y, warn=True)\n",
      "/home/vscode/.local/lib/python3.10/site-packages/sklearn/utils/validation.py:1339: DataConversionWarning: A column-vector y was passed when a 1d array was expected. Please change the shape of y to (n_samples, ), for example using ravel().\n",
      "  y = column_or_1d(y, warn=True)\n",
      "/home/vscode/.local/lib/python3.10/site-packages/sklearn/linear_model/_logistic.py:469: ConvergenceWarning: lbfgs failed to converge (status=1):\n",
      "STOP: TOTAL NO. of ITERATIONS REACHED LIMIT.\n",
      "\n",
      "Increase the number of iterations (max_iter) or scale the data as shown in:\n",
      "    https://scikit-learn.org/stable/modules/preprocessing.html\n",
      "Please also refer to the documentation for alternative solver options:\n",
      "    https://scikit-learn.org/stable/modules/linear_model.html#logistic-regression\n",
      "  n_iter_i = _check_optimize_result(\n"
     ]
    },
    {
     "data": {
      "text/plain": [
       "{'index': 3,\n",
       " 'train_score': 0.2979362670713202,\n",
       " 'test_score': 0.2964311726147123}"
      ]
     },
     "execution_count": 9,
     "metadata": {},
     "output_type": "execute_result"
    }
   ],
   "source": [
    "from sklearn.linear_model import LogisticRegression\n",
    "from sklearn.metrics import accuracy_score\n",
    "\n",
    "model = LogisticRegression()\n",
    "\n",
    "train_dfs = [\n",
    "    x_train_con_norm,\n",
    "    x_train_con_scal,\n",
    "    x_train_sin_norm,\n",
    "    x_train_sin_scal,\n",
    "]\n",
    "test_dfs = [\n",
    "    x_test_con_norm,\n",
    "    x_test_con_scal,\n",
    "    x_test_sin_norm,\n",
    "    x_test_sin_scal\n",
    "]\n",
    "\n",
    "results = []\n",
    "\n",
    "for df_index in range (len(train_dfs)):\n",
    "    model = LogisticRegression()\n",
    "    train_df = train_dfs[df_index]\n",
    "    model.fit(train_df, y_train)\n",
    "    y_train_pred = model.predict(train_df)\n",
    "    y_test_pred = model.predict(test_dfs[df_index])\n",
    "\n",
    "\n",
    "    results = (\n",
    "        {\n",
    "        \"index\": df_index,\n",
    "        \"train_score\": accuracy_score(y_train, y_train_pred),\n",
    "        \"test_score\": accuracy_score(y_test, y_test_pred)\n",
    "        }\n",
    "    )\n",
    "\n",
    "results"
   ]
  }
 ],
 "metadata": {
  "kernelspec": {
   "display_name": "Python 3",
   "language": "python",
   "name": "python3"
  },
  "language_info": {
   "codemirror_mode": {
    "name": "ipython",
    "version": 3
   },
   "file_extension": ".py",
   "mimetype": "text/x-python",
   "name": "python",
   "nbconvert_exporter": "python",
   "pygments_lexer": "ipython3",
   "version": "3.10.12"
  }
 },
 "nbformat": 4,
 "nbformat_minor": 2
}
